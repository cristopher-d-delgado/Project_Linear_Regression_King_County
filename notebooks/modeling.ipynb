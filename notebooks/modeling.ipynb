{
 "cells": [
  {
   "cell_type": "markdown",
   "metadata": {},
   "source": [
    "# Simple Regression model with target feature price "
   ]
  },
  {
   "cell_type": "markdown",
   "metadata": {},
   "source": [
    "Now that we have a clean dataframe with no multicollinearity, we can attempt to create a simle model first. After we can attempt to create a multi feature model. Again, our target feature is price.\n",
    "\n",
    "**Main Goals for model fitting:**\n",
    "* Fit an intial regression model. Using statistical analysis look at the p-value of features and determine which features are important. \n",
    "* Test for normality using Jarqu-Bera test. Test for heteroscedasticity. \n",
    "* From the tests we can refine and improve our model. "
   ]
  },
  {
   "cell_type": "code",
   "execution_count": 1,
   "metadata": {},
   "outputs": [],
   "source": [
    "#import all neccesary libraries\n",
    "import pandas as pd\n",
    "import numpy as np\n",
    "import seaborn as sns\n",
    "import matplotlib.pyplot as plt \n",
    "%matplotlib inline\n",
    "plt.style.use('seaborn')\n",
    "\n",
    "import statsmodels.api as sm\n",
    "import scipy.stats as stats\n",
    "\n",
    "import warnings\n",
    "warnings.filterwarnings(\"ignore\")"
   ]
  },
  {
   "cell_type": "markdown",
   "metadata": {},
   "source": [
    "There are 4 main assumptions for regression models: \n",
    "1. Linearity \n",
    "> There needs to be a linear relationship between the target variable and the predictors being used. \n",
    "2. Normality \n",
    "> The residual erros from the model are to be assumed as normally distributed. This can be checked using a Qunatile-Quantile Plot. \n",
    "3. Homoscedasticity \n",
    "> The residual erros from the model should not be correlated with the target variable or any predictors. This can be viewed through a residual plot. The erros must bve random. "
   ]
  },
  {
   "cell_type": "code",
   "execution_count": 6,
   "metadata": {},
   "outputs": [
    {
     "data": {
      "text/html": [
       "<div>\n",
       "<style scoped>\n",
       "    .dataframe tbody tr th:only-of-type {\n",
       "        vertical-align: middle;\n",
       "    }\n",
       "\n",
       "    .dataframe tbody tr th {\n",
       "        vertical-align: top;\n",
       "    }\n",
       "\n",
       "    .dataframe thead th {\n",
       "        text-align: right;\n",
       "    }\n",
       "</style>\n",
       "<table border=\"1\" class=\"dataframe\">\n",
       "  <thead>\n",
       "    <tr style=\"text-align: right;\">\n",
       "      <th></th>\n",
       "      <th>price_log</th>\n",
       "      <th>sqft_lot</th>\n",
       "      <th>sqft_above</th>\n",
       "      <th>sqft_garage</th>\n",
       "      <th>sqft_patio</th>\n",
       "      <th>bedrooms</th>\n",
       "      <th>bathrooms</th>\n",
       "      <th>floors</th>\n",
       "      <th>condition_num</th>\n",
       "      <th>extracted_grade_num</th>\n",
       "      <th>waterfront_YES</th>\n",
       "      <th>greenbelt_YES</th>\n",
       "      <th>basement_1.0</th>\n",
       "      <th>sewer_PUBLIC</th>\n",
       "      <th>heat_Electricity/Solar</th>\n",
       "      <th>heat_Gas</th>\n",
       "      <th>heat_Gas/Solar</th>\n",
       "      <th>heat_Oil</th>\n",
       "    </tr>\n",
       "  </thead>\n",
       "  <tbody>\n",
       "    <tr>\n",
       "      <th>21177</th>\n",
       "      <td>12.422989</td>\n",
       "      <td>39808</td>\n",
       "      <td>1790</td>\n",
       "      <td>460</td>\n",
       "      <td>290</td>\n",
       "      <td>3</td>\n",
       "      <td>1.5</td>\n",
       "      <td>1.0</td>\n",
       "      <td>4</td>\n",
       "      <td>7</td>\n",
       "      <td>0</td>\n",
       "      <td>0</td>\n",
       "      <td>0</td>\n",
       "      <td>1</td>\n",
       "      <td>0</td>\n",
       "      <td>0</td>\n",
       "      <td>0</td>\n",
       "      <td>1</td>\n",
       "    </tr>\n",
       "    <tr>\n",
       "      <th>10844</th>\n",
       "      <td>13.319574</td>\n",
       "      <td>12866</td>\n",
       "      <td>2232</td>\n",
       "      <td>440</td>\n",
       "      <td>60</td>\n",
       "      <td>4</td>\n",
       "      <td>1.5</td>\n",
       "      <td>1.5</td>\n",
       "      <td>4</td>\n",
       "      <td>7</td>\n",
       "      <td>0</td>\n",
       "      <td>0</td>\n",
       "      <td>0</td>\n",
       "      <td>1</td>\n",
       "      <td>0</td>\n",
       "      <td>1</td>\n",
       "      <td>0</td>\n",
       "      <td>0</td>\n",
       "    </tr>\n",
       "    <tr>\n",
       "      <th>9292</th>\n",
       "      <td>13.835313</td>\n",
       "      <td>15156</td>\n",
       "      <td>1380</td>\n",
       "      <td>0</td>\n",
       "      <td>0</td>\n",
       "      <td>5</td>\n",
       "      <td>2.0</td>\n",
       "      <td>1.0</td>\n",
       "      <td>4</td>\n",
       "      <td>8</td>\n",
       "      <td>0</td>\n",
       "      <td>0</td>\n",
       "      <td>1</td>\n",
       "      <td>1</td>\n",
       "      <td>0</td>\n",
       "      <td>0</td>\n",
       "      <td>0</td>\n",
       "      <td>1</td>\n",
       "    </tr>\n",
       "    <tr>\n",
       "      <th>17878</th>\n",
       "      <td>13.321214</td>\n",
       "      <td>15552</td>\n",
       "      <td>1210</td>\n",
       "      <td>0</td>\n",
       "      <td>330</td>\n",
       "      <td>5</td>\n",
       "      <td>2.0</td>\n",
       "      <td>1.0</td>\n",
       "      <td>3</td>\n",
       "      <td>7</td>\n",
       "      <td>0</td>\n",
       "      <td>0</td>\n",
       "      <td>1</td>\n",
       "      <td>0</td>\n",
       "      <td>0</td>\n",
       "      <td>0</td>\n",
       "      <td>0</td>\n",
       "      <td>1</td>\n",
       "    </tr>\n",
       "    <tr>\n",
       "      <th>14450</th>\n",
       "      <td>13.458836</td>\n",
       "      <td>8620</td>\n",
       "      <td>1720</td>\n",
       "      <td>0</td>\n",
       "      <td>0</td>\n",
       "      <td>3</td>\n",
       "      <td>2.0</td>\n",
       "      <td>1.5</td>\n",
       "      <td>5</td>\n",
       "      <td>7</td>\n",
       "      <td>0</td>\n",
       "      <td>0</td>\n",
       "      <td>0</td>\n",
       "      <td>1</td>\n",
       "      <td>0</td>\n",
       "      <td>1</td>\n",
       "      <td>0</td>\n",
       "      <td>0</td>\n",
       "    </tr>\n",
       "  </tbody>\n",
       "</table>\n",
       "</div>"
      ],
      "text/plain": [
       "       price_log  sqft_lot  sqft_above  sqft_garage  sqft_patio  bedrooms  \\\n",
       "21177  12.422989     39808        1790          460         290         3   \n",
       "10844  13.319574     12866        2232          440          60         4   \n",
       "9292   13.835313     15156        1380            0           0         5   \n",
       "17878  13.321214     15552        1210            0         330         5   \n",
       "14450  13.458836      8620        1720            0           0         3   \n",
       "\n",
       "       bathrooms  floors  condition_num  extracted_grade_num  waterfront_YES  \\\n",
       "21177        1.5     1.0              4                    7               0   \n",
       "10844        1.5     1.5              4                    7               0   \n",
       "9292         2.0     1.0              4                    8               0   \n",
       "17878        2.0     1.0              3                    7               0   \n",
       "14450        2.0     1.5              5                    7               0   \n",
       "\n",
       "       greenbelt_YES  basement_1.0  sewer_PUBLIC  heat_Electricity/Solar  \\\n",
       "21177              0             0             1                       0   \n",
       "10844              0             0             1                       0   \n",
       "9292               0             1             1                       0   \n",
       "17878              0             1             0                       0   \n",
       "14450              0             0             1                       0   \n",
       "\n",
       "       heat_Gas  heat_Gas/Solar  heat_Oil  \n",
       "21177         0               0         1  \n",
       "10844         1               0         0  \n",
       "9292          0               0         1  \n",
       "17878         0               0         1  \n",
       "14450         1               0         0  "
      ]
     },
     "execution_count": 6,
     "metadata": {},
     "output_type": "execute_result"
    }
   ],
   "source": [
    "# read cleaned dataframe\n",
    "clean = pd.read_csv('../data/king_clean_df.csv', index_col=0)\n",
    "clean.head()"
   ]
  },
  {
   "cell_type": "markdown",
   "metadata": {},
   "source": [
    "## Model 1 with sqft_garage, sqft_patio, and sqft_basement treated as a categorical variable using dummy variables"
   ]
  },
  {
   "cell_type": "code",
   "execution_count": 7,
   "metadata": {},
   "outputs": [],
   "source": [
    "# create a copy of cleaned data and drop target variable\n",
    "# drop city since I already made dummies of it\n",
    "model1_df = clean.drop(['price_log'], axis=1)\n",
    "\n",
    "# Specify the model parameters\n",
    "X = model1_df\n",
    "y = clean['price_log']"
   ]
  },
  {
   "cell_type": "code",
   "execution_count": 8,
   "metadata": {},
   "outputs": [
    {
     "name": "stdout",
     "output_type": "stream",
     "text": [
      "                            OLS Regression Results                            \n",
      "==============================================================================\n",
      "Dep. Variable:              price_log   R-squared:                       0.481\n",
      "Model:                            OLS   Adj. R-squared:                  0.481\n",
      "Method:                 Least Squares   F-statistic:                     1643.\n",
      "Date:                Tue, 25 Jul 2023   Prob (F-statistic):               0.00\n",
      "Time:                        14:56:00   Log-Likelihood:                -16540.\n",
      "No. Observations:               30110   AIC:                         3.312e+04\n",
      "Df Residuals:                   30092   BIC:                         3.327e+04\n",
      "Df Model:                          17                                         \n",
      "Covariance Type:            nonrobust                                         \n",
      "==========================================================================================\n",
      "                             coef    std err          t      P>|t|      [0.025      0.975]\n",
      "------------------------------------------------------------------------------------------\n",
      "const                     11.3602      0.027    424.370      0.000      11.308      11.413\n",
      "sqft_lot                3.901e-07   4.38e-08      8.901      0.000    3.04e-07    4.76e-07\n",
      "sqft_above                 0.0002    5.5e-06     42.552      0.000       0.000       0.000\n",
      "sqft_garage               -0.0002    1.1e-05    -19.374      0.000      -0.000      -0.000\n",
      "sqft_patio                 0.0001   1.11e-05     10.041      0.000       9e-05       0.000\n",
      "bedrooms                  -0.0127      0.003     -3.812      0.000      -0.019      -0.006\n",
      "bathrooms                  0.0495      0.005     10.675      0.000       0.040       0.059\n",
      "floors                    -0.0824      0.006    -14.942      0.000      -0.093      -0.072\n",
      "condition_num              0.0769      0.004     20.996      0.000       0.070       0.084\n",
      "extracted_grade_num        0.2022      0.003     58.746      0.000       0.195       0.209\n",
      "waterfront_YES             0.4113      0.019     21.504      0.000       0.374       0.449\n",
      "greenbelt_YES              0.0872      0.015      5.625      0.000       0.057       0.118\n",
      "basement_1.0               0.1853      0.006     31.072      0.000       0.174       0.197\n",
      "sewer_PUBLIC               0.1231      0.008     15.754      0.000       0.108       0.138\n",
      "heat_Electricity/Solar    -0.1266      0.055     -2.307      0.021      -0.234      -0.019\n",
      "heat_Gas                   0.0298      0.006      4.622      0.000       0.017       0.042\n",
      "heat_Gas/Solar             0.1740      0.044      3.964      0.000       0.088       0.260\n",
      "heat_Oil                   0.0608      0.010      6.131      0.000       0.041       0.080\n",
      "==============================================================================\n",
      "Omnibus:                     7648.406   Durbin-Watson:                   1.270\n",
      "Prob(Omnibus):                  0.000   Jarque-Bera (JB):            88580.112\n",
      "Skew:                          -0.892   Prob(JB):                         0.00\n",
      "Kurtosis:                      11.211   Cond. No.                     1.41e+06\n",
      "==============================================================================\n",
      "\n",
      "Notes:\n",
      "[1] Standard Errors assume that the covariance matrix of the errors is correctly specified.\n",
      "[2] The condition number is large, 1.41e+06. This might indicate that there are\n",
      "strong multicollinearity or other numerical problems.\n"
     ]
    }
   ],
   "source": [
    "model1 = sm.OLS(y, sm.add_constant(X))\n",
    "model1_results = model1.fit()\n",
    "print(model1_results.summary())"
   ]
  },
  {
   "cell_type": "markdown",
   "metadata": {},
   "source": [
    "**Observations:**\n",
    "* It seems that all the features are statistically significant. \n",
    "* The variance of the model only represents 48% of the vairance in price_log"
   ]
  },
  {
   "cell_type": "code",
   "execution_count": 9,
   "metadata": {},
   "outputs": [
    {
     "data": {
      "text/plain": [
       "price_log                 1.000000\n",
       "extracted_grade_num       0.614471\n",
       "sqft_above                0.548116\n",
       "bathrooms                 0.516526\n",
       "bedrooms                  0.345930\n",
       "sqft_patio                0.310323\n",
       "sqft_garage               0.284608\n",
       "floors                    0.234231\n",
       "heat_Gas                  0.183325\n",
       "waterfront_YES            0.138611\n",
       "basement_1.0              0.136989\n",
       "greenbelt_YES             0.097197\n",
       "sqft_lot                  0.084713\n",
       "heat_Gas/Solar            0.036587\n",
       "sewer_PUBLIC              0.032915\n",
       "condition_num             0.009101\n",
       "heat_Electricity/Solar   -0.015479\n",
       "heat_Oil                 -0.081566\n",
       "Name: price_log, dtype: float64"
      ]
     },
     "execution_count": 9,
     "metadata": {},
     "output_type": "execute_result"
    }
   ],
   "source": [
    "clean.corr()['price_log'].sort_values(ascending=False)"
   ]
  },
  {
   "cell_type": "markdown",
   "metadata": {},
   "source": [
    "## Model 2 with top 3 features"
   ]
  },
  {
   "cell_type": "code",
   "execution_count": 11,
   "metadata": {},
   "outputs": [],
   "source": [
    "# Specify the model parameters\n",
    "X = model1_df[['extracted_grade_num', 'sqft_above', 'bathrooms']]\n",
    "y = clean['price_log']"
   ]
  },
  {
   "cell_type": "code",
   "execution_count": 13,
   "metadata": {},
   "outputs": [
    {
     "name": "stdout",
     "output_type": "stream",
     "text": [
      "                            OLS Regression Results                            \n",
      "==============================================================================\n",
      "Dep. Variable:              price_log   R-squared:                       0.414\n",
      "Model:                            OLS   Adj. R-squared:                  0.414\n",
      "Method:                 Least Squares   F-statistic:                     7088.\n",
      "Date:                Tue, 25 Jul 2023   Prob (F-statistic):               0.00\n",
      "Time:                        15:23:57   Log-Likelihood:                -18382.\n",
      "No. Observations:               30110   AIC:                         3.677e+04\n",
      "Df Residuals:                   30106   BIC:                         3.680e+04\n",
      "Df Model:                           3                                         \n",
      "Covariance Type:            nonrobust                                         \n",
      "=======================================================================================\n",
      "                          coef    std err          t      P>|t|      [0.025      0.975]\n",
      "---------------------------------------------------------------------------------------\n",
      "const                  11.7419      0.020    589.851      0.000      11.703      11.781\n",
      "extracted_grade_num     0.2058      0.003     61.617      0.000       0.199       0.212\n",
      "sqft_above              0.0001    4.5e-06     24.858      0.000       0.000       0.000\n",
      "bathrooms               0.0924      0.004     22.275      0.000       0.084       0.100\n",
      "==============================================================================\n",
      "Omnibus:                     5276.787   Durbin-Watson:                   1.158\n",
      "Prob(Omnibus):                  0.000   Jarque-Bera (JB):            49839.380\n",
      "Skew:                          -0.567   Prob(JB):                         0.00\n",
      "Kurtosis:                       9.200   Cond. No.                     1.58e+04\n",
      "==============================================================================\n",
      "\n",
      "Notes:\n",
      "[1] Standard Errors assume that the covariance matrix of the errors is correctly specified.\n",
      "[2] The condition number is large, 1.58e+04. This might indicate that there are\n",
      "strong multicollinearity or other numerical problems.\n"
     ]
    }
   ],
   "source": [
    "model2 = sm.OLS(y, sm.add_constant(X))\n",
    "model2_results = model1.fit()\n",
    "print(model1_results.summary())"
   ]
  },
  {
   "cell_type": "code",
   "execution_count": 154,
   "metadata": {},
   "outputs": [],
   "source": []
  }
 ],
 "metadata": {
  "kernelspec": {
   "display_name": "learn-env",
   "language": "python",
   "name": "python3"
  },
  "language_info": {
   "codemirror_mode": {
    "name": "ipython",
    "version": 3
   },
   "file_extension": ".py",
   "mimetype": "text/x-python",
   "name": "python",
   "nbconvert_exporter": "python",
   "pygments_lexer": "ipython3",
   "version": "3.8.5"
  },
  "orig_nbformat": 4
 },
 "nbformat": 4,
 "nbformat_minor": 2
}
