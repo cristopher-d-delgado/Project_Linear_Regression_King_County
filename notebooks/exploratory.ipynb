{
 "cells": [
  {
   "cell_type": "markdown",
   "metadata": {},
   "source": [
    "Lets start by creating a simple regression model with the highest correlation coefficient to price. "
   ]
  },
  {
   "cell_type": "code",
   "execution_count": 386,
   "metadata": {},
   "outputs": [],
   "source": [
    "# imoprt libraries\n",
    "import pandas as pd\n",
    "import statsmodels.api as sm"
   ]
  },
  {
   "cell_type": "code",
   "execution_count": 387,
   "metadata": {},
   "outputs": [
    {
     "data": {
      "text/html": [
       "<div>\n",
       "<style scoped>\n",
       "    .dataframe tbody tr th:only-of-type {\n",
       "        vertical-align: middle;\n",
       "    }\n",
       "\n",
       "    .dataframe tbody tr th {\n",
       "        vertical-align: top;\n",
       "    }\n",
       "\n",
       "    .dataframe thead th {\n",
       "        text-align: right;\n",
       "    }\n",
       "</style>\n",
       "<table border=\"1\" class=\"dataframe\">\n",
       "  <thead>\n",
       "    <tr style=\"text-align: right;\">\n",
       "      <th></th>\n",
       "      <th>id</th>\n",
       "      <th>date</th>\n",
       "      <th>price</th>\n",
       "      <th>bedrooms</th>\n",
       "      <th>bathrooms</th>\n",
       "      <th>sqft_living</th>\n",
       "      <th>sqft_lot</th>\n",
       "      <th>floors</th>\n",
       "      <th>waterfront</th>\n",
       "      <th>greenbelt</th>\n",
       "      <th>...</th>\n",
       "      <th>sewer_system</th>\n",
       "      <th>sqft_above</th>\n",
       "      <th>sqft_basement</th>\n",
       "      <th>sqft_garage</th>\n",
       "      <th>sqft_patio</th>\n",
       "      <th>yr_built</th>\n",
       "      <th>yr_renovated</th>\n",
       "      <th>address</th>\n",
       "      <th>lat</th>\n",
       "      <th>long</th>\n",
       "    </tr>\n",
       "  </thead>\n",
       "  <tbody>\n",
       "    <tr>\n",
       "      <th>0</th>\n",
       "      <td>7399300360</td>\n",
       "      <td>5/24/2022</td>\n",
       "      <td>675000.0</td>\n",
       "      <td>4</td>\n",
       "      <td>1.0</td>\n",
       "      <td>1180</td>\n",
       "      <td>7140</td>\n",
       "      <td>1.0</td>\n",
       "      <td>NO</td>\n",
       "      <td>NO</td>\n",
       "      <td>...</td>\n",
       "      <td>PUBLIC</td>\n",
       "      <td>1180</td>\n",
       "      <td>0</td>\n",
       "      <td>0</td>\n",
       "      <td>40</td>\n",
       "      <td>1969</td>\n",
       "      <td>0</td>\n",
       "      <td>2102 Southeast 21st Court, Renton, Washington ...</td>\n",
       "      <td>47.461975</td>\n",
       "      <td>-122.19052</td>\n",
       "    </tr>\n",
       "    <tr>\n",
       "      <th>1</th>\n",
       "      <td>8910500230</td>\n",
       "      <td>12/13/2021</td>\n",
       "      <td>920000.0</td>\n",
       "      <td>5</td>\n",
       "      <td>2.5</td>\n",
       "      <td>2770</td>\n",
       "      <td>6703</td>\n",
       "      <td>1.0</td>\n",
       "      <td>NO</td>\n",
       "      <td>NO</td>\n",
       "      <td>...</td>\n",
       "      <td>PUBLIC</td>\n",
       "      <td>1570</td>\n",
       "      <td>1570</td>\n",
       "      <td>0</td>\n",
       "      <td>240</td>\n",
       "      <td>1950</td>\n",
       "      <td>0</td>\n",
       "      <td>11231 Greenwood Avenue North, Seattle, Washing...</td>\n",
       "      <td>47.711525</td>\n",
       "      <td>-122.35591</td>\n",
       "    </tr>\n",
       "    <tr>\n",
       "      <th>2</th>\n",
       "      <td>1180000275</td>\n",
       "      <td>9/29/2021</td>\n",
       "      <td>311000.0</td>\n",
       "      <td>6</td>\n",
       "      <td>2.0</td>\n",
       "      <td>2880</td>\n",
       "      <td>6156</td>\n",
       "      <td>1.0</td>\n",
       "      <td>NO</td>\n",
       "      <td>NO</td>\n",
       "      <td>...</td>\n",
       "      <td>PUBLIC</td>\n",
       "      <td>1580</td>\n",
       "      <td>1580</td>\n",
       "      <td>0</td>\n",
       "      <td>0</td>\n",
       "      <td>1956</td>\n",
       "      <td>0</td>\n",
       "      <td>8504 South 113th Street, Seattle, Washington 9...</td>\n",
       "      <td>47.502045</td>\n",
       "      <td>-122.22520</td>\n",
       "    </tr>\n",
       "  </tbody>\n",
       "</table>\n",
       "<p>3 rows × 25 columns</p>\n",
       "</div>"
      ],
      "text/plain": [
       "           id        date     price  bedrooms  bathrooms  sqft_living  \\\n",
       "0  7399300360   5/24/2022  675000.0         4        1.0         1180   \n",
       "1  8910500230  12/13/2021  920000.0         5        2.5         2770   \n",
       "2  1180000275   9/29/2021  311000.0         6        2.0         2880   \n",
       "\n",
       "   sqft_lot  floors waterfront greenbelt  ... sewer_system sqft_above  \\\n",
       "0      7140     1.0         NO        NO  ...       PUBLIC       1180   \n",
       "1      6703     1.0         NO        NO  ...       PUBLIC       1570   \n",
       "2      6156     1.0         NO        NO  ...       PUBLIC       1580   \n",
       "\n",
       "  sqft_basement sqft_garage sqft_patio yr_built  yr_renovated  \\\n",
       "0             0           0         40     1969             0   \n",
       "1          1570           0        240     1950             0   \n",
       "2          1580           0          0     1956             0   \n",
       "\n",
       "                                             address        lat       long  \n",
       "0  2102 Southeast 21st Court, Renton, Washington ...  47.461975 -122.19052  \n",
       "1  11231 Greenwood Avenue North, Seattle, Washing...  47.711525 -122.35591  \n",
       "2  8504 South 113th Street, Seattle, Washington 9...  47.502045 -122.22520  \n",
       "\n",
       "[3 rows x 25 columns]"
      ]
     },
     "execution_count": 387,
     "metadata": {},
     "output_type": "execute_result"
    }
   ],
   "source": [
    "# Read file \n",
    "filepath = \"../data/kc_house_data.csv\"\n",
    "king = pd.read_csv(filepath)\n",
    "\n",
    "king.head(3)"
   ]
  },
  {
   "cell_type": "code",
   "execution_count": 388,
   "metadata": {},
   "outputs": [
    {
     "data": {
      "text/plain": [
       "id              -0.034184\n",
       "price            1.000000\n",
       "bedrooms         0.289204\n",
       "bathrooms        0.480401\n",
       "sqft_living      0.608521\n",
       "sqft_lot         0.085730\n",
       "floors           0.180576\n",
       "sqft_above       0.538651\n",
       "sqft_basement    0.245058\n",
       "sqft_garage      0.264169\n",
       "sqft_patio       0.313409\n",
       "yr_built         0.096013\n",
       "yr_renovated     0.084786\n",
       "lat              0.063632\n",
       "long            -0.022509\n",
       "Name: price, dtype: float64"
      ]
     },
     "execution_count": 388,
     "metadata": {},
     "output_type": "execute_result"
    }
   ],
   "source": [
    "king.corr()['price']"
   ]
  },
  {
   "cell_type": "code",
   "execution_count": 389,
   "metadata": {},
   "outputs": [
    {
     "name": "stdout",
     "output_type": "stream",
     "text": [
      "                            OLS Regression Results                            \n",
      "==============================================================================\n",
      "Dep. Variable:                  price   R-squared:                       0.370\n",
      "Model:                            OLS   Adj. R-squared:                  0.370\n",
      "Method:                 Least Squares   F-statistic:                 1.773e+04\n",
      "Date:                Tue, 18 Jul 2023   Prob (F-statistic):               0.00\n",
      "Time:                        15:07:26   Log-Likelihood:            -4.4912e+05\n",
      "No. Observations:               30155   AIC:                         8.982e+05\n",
      "Df Residuals:                   30153   BIC:                         8.983e+05\n",
      "Df Model:                           1                                         \n",
      "Covariance Type:            nonrobust                                         \n",
      "===============================================================================\n",
      "                  coef    std err          t      P>|t|      [0.025      0.975]\n",
      "-------------------------------------------------------------------------------\n",
      "const       -7.443e+04   9782.728     -7.609      0.000   -9.36e+04   -5.53e+04\n",
      "sqft_living   560.0050      4.206    133.160      0.000     551.762     568.248\n",
      "==============================================================================\n",
      "Omnibus:                    43429.367   Durbin-Watson:                   1.862\n",
      "Prob(Omnibus):                  0.000   Jarque-Bera (JB):         47159181.471\n",
      "Skew:                           8.188   Prob(JB):                         0.00\n",
      "Kurtosis:                     196.042   Cond. No.                     5.56e+03\n",
      "==============================================================================\n",
      "\n",
      "Notes:\n",
      "[1] Standard Errors assume that the covariance matrix of the errors is correctly specified.\n",
      "[2] The condition number is large, 5.56e+03. This might indicate that there are\n",
      "strong multicollinearity or other numerical problems.\n"
     ]
    }
   ],
   "source": [
    "# Create a model with columns of interest only being sqft_living\n",
    "\n",
    "# Specify the parameters for the model\n",
    "y = king['price']\n",
    "X = king[['sqft_living']]\n",
    "\n",
    "# Create a model\n",
    "first_model = sm.OLS(y, sm.add_constant(X))\n",
    "first_model_results = first_model.fit()\n",
    "\n",
    "# Print the results\n",
    "print(first_model_results.summary())\n"
   ]
  },
  {
   "cell_type": "markdown",
   "metadata": {},
   "source": [
    "1. The model is statistically significant with a F-statistic p-value below 0.05.\n",
    "2. The models predictors are statistically significant with a t-statistic p-value below 0.05.\n",
    "3. With every increase of 1 sqft in the living area the model predicts that the price will increase by about $560. \n",
    "4. The model represents about %37 of the variance in price.\n",
    "5. When the square footage of living space (\"sqft_living\") is zero, the predicted value of the \"price\" would be $-7.443e+04.  "
   ]
  },
  {
   "cell_type": "markdown",
   "metadata": {},
   "source": [
    "Lets Determine RMSE for this model since the variance is not so great. "
   ]
  },
  {
   "cell_type": "code",
   "execution_count": 390,
   "metadata": {},
   "outputs": [
    {
     "data": {
      "text/plain": [
       "711303.9200126047"
      ]
     },
     "execution_count": 390,
     "metadata": {},
     "output_type": "execute_result"
    }
   ],
   "source": [
    "rmse = ((first_model_results.resid ** 2).sum() / len(y)) ** 0.5\n",
    "rmse"
   ]
  },
  {
   "cell_type": "markdown",
   "metadata": {},
   "source": [
    "our model is off by about $711,303 in a given prediction. Which is not good at all"
   ]
  },
  {
   "cell_type": "markdown",
   "metadata": {},
   "source": [
    "Lets incorporate our second highest correlation variable and see if it helps the model."
   ]
  },
  {
   "cell_type": "code",
   "execution_count": 392,
   "metadata": {},
   "outputs": [
    {
     "name": "stdout",
     "output_type": "stream",
     "text": [
      "                            OLS Regression Results                            \n",
      "==============================================================================\n",
      "Dep. Variable:                  price   R-squared:                       0.370\n",
      "Model:                            OLS   Adj. R-squared:                  0.370\n",
      "Method:                 Least Squares   F-statistic:                     8866.\n",
      "Date:                Tue, 18 Jul 2023   Prob (F-statistic):               0.00\n",
      "Time:                        15:17:52   Log-Likelihood:            -4.4912e+05\n",
      "No. Observations:               30155   AIC:                         8.983e+05\n",
      "Df Residuals:                   30152   BIC:                         8.983e+05\n",
      "Df Model:                           2                                         \n",
      "Covariance Type:            nonrobust                                         \n",
      "===============================================================================\n",
      "                  coef    std err          t      P>|t|      [0.025      0.975]\n",
      "-------------------------------------------------------------------------------\n",
      "const       -7.486e+04   9863.317     -7.590      0.000   -9.42e+04   -5.55e+04\n",
      "sqft_living   557.2945      8.996     61.952      0.000     539.663     574.926\n",
      "sqft_above      3.4005      9.976      0.341      0.733     -16.153      22.954\n",
      "==============================================================================\n",
      "Omnibus:                    43428.705   Durbin-Watson:                   1.862\n",
      "Prob(Omnibus):                  0.000   Jarque-Bera (JB):         47148435.931\n",
      "Skew:                           8.188   Prob(JB):                         0.00\n",
      "Kurtosis:                     196.020   Cond. No.                     7.37e+03\n",
      "==============================================================================\n",
      "\n",
      "Notes:\n",
      "[1] Standard Errors assume that the covariance matrix of the errors is correctly specified.\n",
      "[2] The condition number is large, 7.37e+03. This might indicate that there are\n",
      "strong multicollinearity or other numerical problems.\n"
     ]
    }
   ],
   "source": [
    "# Create a model with columns of interest only being sqft_living\n",
    "\n",
    "# Specify the parameters for the model\n",
    "y = king['price']\n",
    "X = king[['sqft_living', 'sqft_above']]\n",
    "\n",
    "# Create a model\n",
    "second_model = sm.OLS(y, sm.add_constant(X))\n",
    "second_model_results = second_model.fit()\n",
    "\n",
    "# Print the results\n",
    "print(second_model_results.summary())"
   ]
  },
  {
   "cell_type": "markdown",
   "metadata": {},
   "source": [
    "1. The model is statistically significant with a F-statistic p-value below 0.05.\n",
    "2. The models predictors are statistically significant with a t-statistic p-value below 0.05 except sqft_above.\n",
    "3. With every increase of 1 sqft in the living area the model predicts that the price will increase by about $557.\n",
    "4. With every increase of 1 sqft in the general above ground area the model predicts that the price will increase by about $3\n",
    "4. The model represents about %37 of the variance in price.\n",
    "5. When the square footage of living space (\"sqft_living\") is zero, the predicted value of the \"price\" would be $-7.486e+04.  "
   ]
  },
  {
   "cell_type": "markdown",
   "metadata": {},
   "source": [
    "Including sqft_above actually worsens the model which makes sense since sqft_above incorporate the living area already. This also explains the reason its not statistically significant also. This confirms that we should not consider this predictor given the date we have. The date correlates much better with living sqft. "
   ]
  },
  {
   "cell_type": "markdown",
   "metadata": {},
   "source": [
    "Create a model with third highest correlation with price. "
   ]
  },
  {
   "cell_type": "code",
   "execution_count": 393,
   "metadata": {},
   "outputs": [
    {
     "name": "stdout",
     "output_type": "stream",
     "text": [
      "                            OLS Regression Results                            \n",
      "==============================================================================\n",
      "Dep. Variable:                  price   R-squared:                       0.371\n",
      "Model:                            OLS   Adj. R-squared:                  0.371\n",
      "Method:                 Least Squares   F-statistic:                     8875.\n",
      "Date:                Tue, 18 Jul 2023   Prob (F-statistic):               0.00\n",
      "Time:                        15:22:56   Log-Likelihood:            -4.4912e+05\n",
      "No. Observations:               30155   AIC:                         8.982e+05\n",
      "Df Residuals:                   30152   BIC:                         8.983e+05\n",
      "Df Model:                           2                                         \n",
      "Covariance Type:            nonrobust                                         \n",
      "===============================================================================\n",
      "                  coef    std err          t      P>|t|      [0.025      0.975]\n",
      "-------------------------------------------------------------------------------\n",
      "const       -9.598e+04   1.15e+04     -8.318      0.000   -1.19e+05   -7.34e+04\n",
      "sqft_living   541.9879      6.624     81.826      0.000     529.005     554.971\n",
      "bathrooms    2.553e+04   7252.790      3.520      0.000    1.13e+04    3.97e+04\n",
      "==============================================================================\n",
      "Omnibus:                    43430.242   Durbin-Watson:                   1.862\n",
      "Prob(Omnibus):                  0.000   Jarque-Bera (JB):         47005371.190\n",
      "Skew:                           8.190   Prob(JB):                         0.00\n",
      "Kurtosis:                     195.724   Cond. No.                     7.02e+03\n",
      "==============================================================================\n",
      "\n",
      "Notes:\n",
      "[1] Standard Errors assume that the covariance matrix of the errors is correctly specified.\n",
      "[2] The condition number is large, 7.02e+03. This might indicate that there are\n",
      "strong multicollinearity or other numerical problems.\n"
     ]
    }
   ],
   "source": [
    "# Create a model with columns of interest only being sqft_living\n",
    "\n",
    "# Specify the parameters for the model\n",
    "y = king['price']\n",
    "X = king[['sqft_living', 'bathrooms']]\n",
    "\n",
    "# Create a model\n",
    "third_model = sm.OLS(y, sm.add_constant(X))\n",
    "third_model_results = third_model.fit()\n",
    "\n",
    "# Print the results\n",
    "print(third_model_results.summary())"
   ]
  },
  {
   "cell_type": "code",
   "execution_count": 394,
   "metadata": {},
   "outputs": [
    {
     "data": {
      "text/plain": [
       "711157.785578154"
      ]
     },
     "execution_count": 394,
     "metadata": {},
     "output_type": "execute_result"
    }
   ],
   "source": [
    "rmse = ((third_model_results.resid ** 2).sum() / len(y)) ** 0.5\n",
    "rmse"
   ]
  },
  {
   "cell_type": "markdown",
   "metadata": {},
   "source": [
    "1. The model is statistically significant with a F-statistic p-value below 0.05.\n",
    "2. The models predictors are statistically significant with a t-statistic p-value below 0.05.\n",
    "3. With every increase of 1 sqft in the living area the model predicts that the price will increase by about $541.\n",
    "4. With every increase of 1 sqft in the general above ground area the model predicts that the price will increase by about $25,530.00\n",
    "5. The model represents about %37 of the variance in price.\n",
    "6. When the square footage of living space (\"sqft_living\") is zero, the predicted value of the \"price\" would be $-9.598e+04.\n",
    "7. Our model is off by $711,157.00 in a given prediction. "
   ]
  },
  {
   "cell_type": "markdown",
   "metadata": {},
   "source": [
    "Overall it seems that bathrooms are significant for the model. After reviewing some google searches about King County and how adding bathrooms increases value $25,000 is a reasonable amount for that area."
   ]
  },
  {
   "cell_type": "markdown",
   "metadata": {},
   "source": [
    "Now lets visualize the results of the the model with the predictors. "
   ]
  },
  {
   "cell_type": "code",
   "execution_count": 395,
   "metadata": {},
   "outputs": [
    {
     "data": {
      "image/png": "[encoded data removed]",
      "text/plain": [
       "<Figure size 432x288 with 1 Axes>"
      ]
     },
     "metadata": {
      "needs_background": "light"
     },
     "output_type": "display_data"
    }
   ],
   "source": [
    "import matplotlib.pyplot as plt\n",
    "%matplotlib inline\n",
    "sm.graphics.plot_fit(third_model_results, \"sqft_living\")\n",
    "plt.show()"
   ]
  },
  {
   "cell_type": "code",
   "execution_count": 407,
   "metadata": {},
   "outputs": [
    {
     "data": {
      "image/png": "[encoded data removed]",
      "text/plain": [
       "<Figure size 432x288 with 1 Axes>"
      ]
     },
     "metadata": {
      "needs_background": "light"
     },
     "output_type": "display_data"
    }
   ],
   "source": [
    "fig, ax = plt.subplots()\n",
    "\n",
    "ax.scatter(king[\"sqft_living\"], third_model_results.resid)\n",
    "ax.axhline(y=0, color=\"black\")\n",
    "ax.set_xlabel(\"sqft_living\")\n",
    "ax.set_ylabel(\"residuals\");"
   ]
  },
  {
   "cell_type": "code",
   "execution_count": 396,
   "metadata": {},
   "outputs": [
    {
     "data": {
      "image/png": "[encoded data removed]",
      "text/plain": [
       "<Figure size 432x288 with 1 Axes>"
      ]
     },
     "metadata": {
      "needs_background": "light"
     },
     "output_type": "display_data"
    }
   ],
   "source": [
    "import matplotlib.pyplot as plt\n",
    "%matplotlib inline\n",
    "sm.graphics.plot_fit(third_model_results, \"bathrooms\")\n",
    "plt.show()"
   ]
  },
  {
   "cell_type": "code",
   "execution_count": 406,
   "metadata": {},
   "outputs": [
    {
     "data": {
      "image/png": "[encoded data removed]",
      "text/plain": [
       "<Figure size 432x288 with 1 Axes>"
      ]
     },
     "metadata": {
      "needs_background": "light"
     },
     "output_type": "display_data"
    }
   ],
   "source": [
    "fig, ax = plt.subplots()\n",
    "\n",
    "ax.scatter(king[\"bathrooms\"], third_model_results.resid)\n",
    "ax.axhline(y=0, color=\"black\")\n",
    "ax.set_xlabel(\"bathrooms\")\n",
    "ax.set_ylabel(\"residuals\");"
   ]
  },
  {
   "cell_type": "code",
   "execution_count": 409,
   "metadata": {},
   "outputs": [
    {
     "data": {
      "image/png": "[encoded data removed]",
      "text/plain": [
       "<Figure size 432x288 with 1 Axes>"
      ]
     },
     "metadata": {
      "needs_background": "light"
     },
     "output_type": "display_data"
    }
   ],
   "source": [
    "import scipy.stats as stats\n",
    "sm.graphics.qqplot(third_model_results.resid, dist=stats.norm, line='45', fit=True)\n",
    "plt.show()"
   ]
  },
  {
   "cell_type": "markdown",
   "metadata": {},
   "source": [
    "Lets attempt to include a third predictor being our next highest correlation to price."
   ]
  },
  {
   "cell_type": "markdown",
   "metadata": {},
   "source": [
    "I just realized that bathrooms should be treated as a categorical value. Is an increase of 2 bathrooms twice as much as an increase of 1 bathroom? It is hard to make sense to this so bathroom should be treated as a categorical value. Lets attempt to make the model using dummy variables instead. "
   ]
  },
  {
   "cell_type": "code",
   "execution_count": 410,
   "metadata": {},
   "outputs": [
    {
     "data": {
      "text/plain": [
       "id              -0.034184\n",
       "price            1.000000\n",
       "bedrooms         0.289204\n",
       "bathrooms        0.480401\n",
       "sqft_living      0.608521\n",
       "sqft_lot         0.085730\n",
       "floors           0.180576\n",
       "sqft_above       0.538651\n",
       "sqft_basement    0.245058\n",
       "sqft_garage      0.264169\n",
       "sqft_patio       0.313409\n",
       "yr_built         0.096013\n",
       "yr_renovated     0.084786\n",
       "lat              0.063632\n",
       "long            -0.022509\n",
       "Name: price, dtype: float64"
      ]
     },
     "execution_count": 410,
     "metadata": {},
     "output_type": "execute_result"
    }
   ],
   "source": [
    "king.corr()['price']"
   ]
  },
  {
   "cell_type": "code",
   "execution_count": 411,
   "metadata": {},
   "outputs": [
    {
     "name": "stdout",
     "output_type": "stream",
     "text": [
      "                            OLS Regression Results                            \n",
      "==============================================================================\n",
      "Dep. Variable:                  price   R-squared:                       0.377\n",
      "Model:                            OLS   Adj. R-squared:                  0.377\n",
      "Method:                 Least Squares   F-statistic:                     6074.\n",
      "Date:                Tue, 18 Jul 2023   Prob (F-statistic):               0.00\n",
      "Time:                        16:02:22   Log-Likelihood:            -4.4897e+05\n",
      "No. Observations:               30155   AIC:                         8.979e+05\n",
      "Df Residuals:                   30151   BIC:                         8.980e+05\n",
      "Df Model:                           3                                         \n",
      "Covariance Type:            nonrobust                                         \n",
      "===============================================================================\n",
      "                  coef    std err          t      P>|t|      [0.025      0.975]\n",
      "-------------------------------------------------------------------------------\n",
      "const        -9.42e+04   1.15e+04     -8.203      0.000   -1.17e+05   -7.17e+04\n",
      "sqft_living   514.1252      6.787     75.752      0.000     500.822     527.428\n",
      "bathrooms    2.093e+04   7222.418      2.898      0.004    6776.964    3.51e+04\n",
      "sqft_patio    311.9060     18.107     17.226      0.000     276.416     347.396\n",
      "==============================================================================\n",
      "Omnibus:                    43189.936   Durbin-Watson:                   1.861\n",
      "Prob(Omnibus):                  0.000   Jarque-Bera (JB):         45828934.657\n",
      "Skew:                           8.102   Prob(JB):                         0.00\n",
      "Kurtosis:                     193.295   Cond. No.                     7.06e+03\n",
      "==============================================================================\n",
      "\n",
      "Notes:\n",
      "[1] Standard Errors assume that the covariance matrix of the errors is correctly specified.\n",
      "[2] The condition number is large, 7.06e+03. This might indicate that there are\n",
      "strong multicollinearity or other numerical problems.\n"
     ]
    }
   ],
   "source": [
    "# Create a model with columns of interest only being sqft_living\n",
    "\n",
    "# Specify the parameters for the model\n",
    "y = king['price']\n",
    "X = king[['sqft_living', 'bathrooms', 'sqft_patio']]\n",
    "\n",
    "# Create a model\n",
    "fourth_model = sm.OLS(y, sm.add_constant(X))\n",
    "fourth_model_results = fourth_model.fit()\n",
    "\n",
    "# Print the results\n",
    "print(fourth_model_results.summary())"
   ]
  }
 ],
 "metadata": {
  "language_info": {
   "name": "python"
  },
  "orig_nbformat": 4
 },
 "nbformat": 4,
 "nbformat_minor": 2
}
